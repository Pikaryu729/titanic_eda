{
 "cells": [
  {
   "cell_type": "code",
   "execution_count": 44,
   "id": "c4a9a628-31cc-4315-bf27-231f0e8c5c44",
   "metadata": {},
   "outputs": [],
   "source": [
    "import pandas as pd\n",
    "import matplotlib.pyplot as plt"
   ]
  },
  {
   "cell_type": "markdown",
   "id": "45915bce",
   "metadata": {},
   "source": []
  },
  {
   "cell_type": "code",
   "execution_count": 45,
   "id": "be2e4b73-6d46-4fd6-8344-58ceb99bcd66",
   "metadata": {},
   "outputs": [],
   "source": [
    "titanic_data = pd.read_csv(\"data/data.csv\")"
   ]
  },
  {
   "cell_type": "code",
   "execution_count": 46,
   "id": "73ac6728-5e2d-4202-a732-c1b2b8a5422b",
   "metadata": {},
   "outputs": [],
   "source": [
    "titanic_data.drop(\"Cabin\", axis=1, inplace=True)"
   ]
  },
  {
   "cell_type": "code",
   "execution_count": 59,
   "id": "879ac041-ffc7-4a72-8308-0743794afa6f",
   "metadata": {},
   "outputs": [],
   "source": [
    "titanic_data[\"Age\"] = titanic_data[\"Age\"].fillna(titanic_data[\"Age\"].mean())"
   ]
  },
  {
   "cell_type": "code",
   "execution_count": 60,
   "id": "6baf2a43-6476-430a-ad27-57ce41245030",
   "metadata": {},
   "outputs": [
    {
     "name": "stdout",
     "output_type": "stream",
     "text": [
      "<class 'pandas.core.frame.DataFrame'>\n",
      "RangeIndex: 891 entries, 0 to 890\n",
      "Data columns (total 11 columns):\n",
      " #   Column       Non-Null Count  Dtype  \n",
      "---  ------       --------------  -----  \n",
      " 0   PassengerId  891 non-null    int64  \n",
      " 1   Survived     891 non-null    int64  \n",
      " 2   Pclass       891 non-null    int64  \n",
      " 3   Name         891 non-null    object \n",
      " 4   Sex          891 non-null    object \n",
      " 5   Age          891 non-null    float64\n",
      " 6   SibSp        891 non-null    int64  \n",
      " 7   Parch        891 non-null    int64  \n",
      " 8   Ticket       891 non-null    object \n",
      " 9   Fare         891 non-null    float64\n",
      " 10  Embarked     889 non-null    object \n",
      "dtypes: float64(2), int64(5), object(4)\n",
      "memory usage: 76.7+ KB\n"
     ]
    }
   ],
   "source": [
    "titanic_data.info()"
   ]
  },
  {
   "cell_type": "code",
   "execution_count": 61,
   "id": "e026505a-7fd3-42a4-b4b9-b2ef0ae312ce",
   "metadata": {},
   "outputs": [],
   "source": [
    "num_passengers = len(titanic_data)\n",
    "num_women = sum([1 for gender in titanic_data[\"Sex\"] if gender == \"female\"])\n",
    "num_men = sum([1 for gender in titanic_data[\"Sex\"] if gender == \"male\"])"
   ]
  },
  {
   "cell_type": "code",
   "execution_count": 62,
   "id": "3f1e3017-dc28-4880-88a9-8dd08cd9ce62",
   "metadata": {},
   "outputs": [],
   "source": [
    "percentage_women = num_women / num_passengers\n",
    "percentage_men = num_men / num_passengers"
   ]
  },
  {
   "cell_type": "code",
   "execution_count": 63,
   "id": "1766964f-1338-4b2f-a629-8584333f7c75",
   "metadata": {},
   "outputs": [],
   "source": [
    "labels = [\"Men\", \"Women\"]\n",
    "sizes = [percentage_men, percentage_women]"
   ]
  },
  {
   "cell_type": "code",
   "execution_count": 64,
   "id": "e9b0bf64-e638-40ef-902d-34814366207d",
   "metadata": {},
   "outputs": [
    {
     "data": {
      "text/plain": [
       "Text(0.5, 1.0, 'Distribution of passenger genders')"
      ]
     },
     "execution_count": 64,
     "metadata": {},
     "output_type": "execute_result"
    },
    {
     "data": {
      "image/png": "[encoded data removed]",
      "text/plain": [
       "<Figure size 640x480 with 1 Axes>"
      ]
     },
     "metadata": {},
     "output_type": "display_data"
    }
   ],
   "source": [
    "plt.pie(sizes, labels=labels, autopct=\"%1.1f%%\", startangle=90)\n",
    "plt.axis(\"equal\")\n",
    "plt.title(\"Distribution of passenger genders\")"
   ]
  },
  {
   "cell_type": "code",
   "execution_count": 87,
   "id": "97c36721-fda8-4302-b58a-f02c08380f57",
   "metadata": {},
   "outputs": [
    {
     "data": {
      "text/plain": [
       "Pclass\n",
       "3    491\n",
       "1    216\n",
       "2    184\n",
       "Name: count, dtype: int64"
      ]
     },
     "execution_count": 87,
     "metadata": {},
     "output_type": "execute_result"
    }
   ],
   "source": [
    "Pclass_counts = titanic_data[\"Pclass\"].value_counts()\n",
    "Pclass_counts"
   ]
  },
  {
   "cell_type": "code",
   "execution_count": 89,
   "id": "56a00995-fe08-4736-91e1-c3052b99f805",
   "metadata": {},
   "outputs": [],
   "source": [
    "first_class = titanic_data[\"Pclass\"] == 1"
   ]
  },
  {
   "cell_type": "code",
   "execution_count": 94,
   "id": "3c70a622-899c-460b-9799-ad60880ed5a9",
   "metadata": {},
   "outputs": [],
   "source": [
    "females = titanic_data[titanic_data[\"Sex\"] == \"female\"]\n",
    "# Calculate percent of females who survived\n",
    "percent_females_survived = females[\"Survived\"].mean()"
   ]
  },
  {
   "cell_type": "code",
   "execution_count": 108,
   "id": "1955dfeb-3913-4e8b-8435-0c04379c510d",
   "metadata": {},
   "outputs": [
    {
     "data": {
      "text/plain": [
       "np.float64(0.6296296296296297)"
      ]
     },
     "execution_count": 108,
     "metadata": {},
     "output_type": "execute_result"
    }
   ],
   "source": [
    "first_class = titanic_data[titanic_data[\"Pclass\"] == 1]\n",
    "second_class = titanic_data[titanic_data[\"Pclass\"] == 2]\n",
    "third_class = titanic_data[titanic_data[\"Pclass\"] == 3]\n",
    "\n",
    "first_class[\"Survived\"].mean()"
   ]
  },
  {
   "cell_type": "code",
   "execution_count": 111,
   "id": "a91dc97f-9f80-4c7c-8b83-7270acda894d",
   "metadata": {},
   "outputs": [
    {
     "data": {
      "text/plain": [
       "0.122334455667789"
      ]
     },
     "execution_count": 111,
     "metadata": {},
     "output_type": "execute_result"
    }
   ],
   "source": [
    "survivors = titanic_data[titanic_data[\"Survived\"] == 1]\n",
    "len(survivors[survivors[\"Sex\"] == \"male\"]) / num_passengers"
   ]
  },
  {
   "cell_type": "code",
   "execution_count": 112,
   "id": "7d1db4ba-a238-442c-a70d-15a65f65d01d",
   "metadata": {},
   "outputs": [
    {
     "data": {
      "text/plain": [
       "0.2615039281705948"
      ]
     },
     "execution_count": 112,
     "metadata": {},
     "output_type": "execute_result"
    }
   ],
   "source": [
    "len(survivors[survivors[\"Sex\"] == \"female\"]) / num_passengers"
   ]
  },
  {
   "cell_type": "code",
   "execution_count": null,
   "id": "89b67ec9-03e8-4961-8acb-38e60acf8ba5",
   "metadata": {},
   "outputs": [],
   "source": []
  }
 ],
 "metadata": {
  "kernelspec": {
   "display_name": "Python 3 (ipykernel)",
   "language": "python",
   "name": "python3"
  },
  "language_info": {
   "codemirror_mode": {
    "name": "ipython",
    "version": 3
   },
   "file_extension": ".py",
   "mimetype": "text/x-python",
   "name": "python",
   "nbconvert_exporter": "python",
   "pygments_lexer": "ipython3",
   "version": "3.12.4"
  }
 },
 "nbformat": 4,
 "nbformat_minor": 5
}
